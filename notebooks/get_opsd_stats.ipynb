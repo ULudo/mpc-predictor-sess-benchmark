{
 "cells": [
  {
   "cell_type": "code",
   "execution_count": 1,
   "id": "771ec58e",
   "metadata": {},
   "outputs": [],
   "source": [
    "import numpy as np\n",
    "import pandas as pd\n",
    "import matplotlib.pyplot as plt\n",
    "\n",
    "%matplotlib inline"
   ]
  },
  {
   "cell_type": "code",
   "execution_count": 2,
   "id": "bbcc0e96",
   "metadata": {},
   "outputs": [],
   "source": [
    "opsd_dir = \"../res/data/\""
   ]
  },
  {
   "cell_type": "code",
   "execution_count": 3,
   "id": "118fe3d1",
   "metadata": {},
   "outputs": [],
   "source": [
    "opsd1 = pd.read_csv(opsd_dir + \"opsd_building_1.csv\")\n",
    "opsd3 = pd.read_csv(opsd_dir + \"opsd_building_3.csv\")\n",
    "opsd4 = pd.read_csv(opsd_dir + \"opsd_building_4.csv\")\n",
    "opsd6 = pd.read_csv(opsd_dir + \"opsd_building_6.csv\")"
   ]
  },
  {
   "cell_type": "code",
   "execution_count": 4,
   "id": "162f5740",
   "metadata": {},
   "outputs": [
    {
     "name": "stdout",
     "output_type": "stream",
     "text": [
      "  Data Set  Mean Load  Std Load   Mean PV    Std PV  Max PV\n",
      "0    opsd1   0.143286  0.115456  0.260276  0.480138   2.129\n",
      "1    opsd3   0.104477  0.127981  0.144015  0.230335   0.989\n",
      "2    opsd4   0.116169  0.160104  0.312053  0.534643   2.337\n",
      "3    opsd6   0.063619  0.089970  0.259706  0.473158   1.961\n"
     ]
    }
   ],
   "source": [
    "data_sets = {\n",
    "    \"opsd1\": opsd1,\n",
    "    \"opsd3\": opsd3,\n",
    "    \"opsd4\": opsd4,\n",
    "    \"opsd6\": opsd6\n",
    "}\n",
    "\n",
    "summary = []\n",
    "for name, df in data_sets.items():\n",
    "    summary.append([\n",
    "        name,\n",
    "        df[\"load\"].mean(),\n",
    "        df[\"load\"].std(),\n",
    "        df[\"pv\"].mean(),\n",
    "        df[\"pv\"].std(),\n",
    "        df[\"pv\"].max()\n",
    "    ])\n",
    "\n",
    "summary_df = pd.DataFrame(\n",
    "    summary,\n",
    "    columns=[\"Data Set\", \"Mean Load\", \"Std Load\", \"Mean PV\", \"Std PV\", \"Max PV\"]\n",
    ")\n",
    "print(summary_df)"
   ]
  },
  {
   "cell_type": "code",
   "execution_count": 5,
   "id": "0acc9456",
   "metadata": {},
   "outputs": [
    {
     "name": "stdout",
     "output_type": "stream",
     "text": [
      "kWp estimation using maximum values:\n"
     ]
    },
    {
     "data": {
      "text/html": [
       "<div>\n",
       "<style scoped>\n",
       "    .dataframe tbody tr th:only-of-type {\n",
       "        vertical-align: middle;\n",
       "    }\n",
       "\n",
       "    .dataframe tbody tr th {\n",
       "        vertical-align: top;\n",
       "    }\n",
       "\n",
       "    .dataframe thead th {\n",
       "        text-align: right;\n",
       "    }\n",
       "</style>\n",
       "<table border=\"1\" class=\"dataframe\">\n",
       "  <thead>\n",
       "    <tr style=\"text-align: right;\">\n",
       "      <th></th>\n",
       "      <th>Max PV (kWp)</th>\n",
       "    </tr>\n",
       "    <tr>\n",
       "      <th>Data Set</th>\n",
       "      <th></th>\n",
       "    </tr>\n",
       "  </thead>\n",
       "  <tbody>\n",
       "    <tr>\n",
       "      <th>opsd1</th>\n",
       "      <td>8.516</td>\n",
       "    </tr>\n",
       "    <tr>\n",
       "      <th>opsd3</th>\n",
       "      <td>3.956</td>\n",
       "    </tr>\n",
       "    <tr>\n",
       "      <th>opsd4</th>\n",
       "      <td>9.348</td>\n",
       "    </tr>\n",
       "    <tr>\n",
       "      <th>opsd6</th>\n",
       "      <td>7.844</td>\n",
       "    </tr>\n",
       "  </tbody>\n",
       "</table>\n",
       "</div>"
      ],
      "text/plain": [
       "          Max PV (kWp)\n",
       "Data Set              \n",
       "opsd1            8.516\n",
       "opsd3            3.956\n",
       "opsd4            9.348\n",
       "opsd6            7.844"
      ]
     },
     "execution_count": 5,
     "metadata": {},
     "output_type": "execute_result"
    }
   ],
   "source": [
    "# Method 1: Using the maximum value (already in summary_df)\n",
    "print(\"kWp estimation using maximum values:\")\n",
    "\n",
    "# Create a comprehensive DataFrame showing all estimates\n",
    "kWp_df = pd.DataFrame({\n",
    "    'Data Set': list(data_sets.keys()),\n",
    "    'Max PV (kWp)': [df['pv'].max() * 4 for df in data_sets.values()],\n",
    "})\n",
    "\n",
    "kWp_df.set_index('Data Set', inplace=True)\n",
    "kWp_df"
   ]
  }
 ],
 "metadata": {
  "kernelspec": {
   "display_name": "drl_env",
   "language": "python",
   "name": "python3"
  },
  "language_info": {
   "codemirror_mode": {
    "name": "ipython",
    "version": 3
   },
   "file_extension": ".py",
   "mimetype": "text/x-python",
   "name": "python",
   "nbconvert_exporter": "python",
   "pygments_lexer": "ipython3",
   "version": "3.11.9"
  }
 },
 "nbformat": 4,
 "nbformat_minor": 5
}
